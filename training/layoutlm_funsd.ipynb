{
 "cells": [
  {
   "cell_type": "markdown",
   "metadata": {},
   "source": [
    "# Document AI: Fine-tuning LayoutLM for document-parsing using Hugging Face Transformers \n"
   ]
  },
  {
   "cell_type": "code",
   "execution_count": null,
   "metadata": {},
   "outputs": [],
   "source": [
    "!sudo apt install -y tesseract-ocr\n",
    "!pip install pytesseract transformers datasets seqeval"
   ]
  },
  {
   "cell_type": "code",
   "execution_count": 12,
   "metadata": {},
   "outputs": [],
   "source": [
    "model_id=\"microsoft/layoutlm-base-uncased\"\n",
    "processor_id=\"microsoft/layoutlmv2-base-uncased\"\n",
    "dataset_id =\"nielsr/funsd\""
   ]
  },
  {
   "cell_type": "code",
   "execution_count": 113,
   "metadata": {},
   "outputs": [
    {
     "name": "stderr",
     "output_type": "stream",
     "text": [
      "Reusing dataset funsd (/home/ubuntu/.cache/huggingface/datasets/nielsr___funsd/funsd/1.0.0/8b0472b536a2dcb975d59a4fb9d6fea4e6a1abe260b7fed6f75301e168cbe595)\n"
     ]
    },
    {
     "data": {
      "application/vnd.jupyter.widget-view+json": {
       "model_id": "9941cb23fb874c3dbee76bee04078bb3",
       "version_major": 2,
       "version_minor": 0
      },
      "text/plain": [
       "  0%|          | 0/2 [00:00<?, ?it/s]"
      ]
     },
     "metadata": {},
     "output_type": "display_data"
    },
    {
     "data": {
      "text/plain": [
       "DatasetDict({\n",
       "    train: Dataset({\n",
       "        features: ['id', 'words', 'bboxes', 'ner_tags', 'image_path'],\n",
       "        num_rows: 149\n",
       "    })\n",
       "    test: Dataset({\n",
       "        features: ['id', 'words', 'bboxes', 'ner_tags', 'image_path'],\n",
       "        num_rows: 50\n",
       "    })\n",
       "})"
      ]
     },
     "execution_count": 113,
     "metadata": {},
     "output_type": "execute_result"
    }
   ],
   "source": [
    "from datasets import load_dataset\n",
    "\n",
    "\n",
    "dataset = load_dataset(dataset_id)\n",
    "dataset"
   ]
  },
  {
   "cell_type": "markdown",
   "metadata": {},
   "source": [
    "get labels"
   ]
  },
  {
   "cell_type": "code",
   "execution_count": 114,
   "metadata": {},
   "outputs": [
    {
     "name": "stdout",
     "output_type": "stream",
     "text": [
      "Available labels: ['O', 'B-HEADER', 'I-HEADER', 'B-QUESTION', 'I-QUESTION', 'B-ANSWER', 'I-ANSWER']\n"
     ]
    }
   ],
   "source": [
    "labels = dataset['train'].features['ner_tags'].feature.names\n",
    "print(f\"Available labels: {labels}\")\n",
    "\n",
    "id2label = {v: k for v, k in enumerate(labels)}\n",
    "label2id = {k: v for v, k in enumerate(labels)}"
   ]
  },
  {
   "cell_type": "code",
   "execution_count": 115,
   "metadata": {},
   "outputs": [
    {
     "name": "stderr",
     "output_type": "stream",
     "text": [
      "Some weights of the model checkpoint at microsoft/layoutlm-base-uncased were not used when initializing LayoutLMForTokenClassification: ['cls.predictions.decoder.bias', 'cls.predictions.transform.LayerNorm.bias', 'cls.predictions.transform.dense.weight', 'cls.predictions.bias', 'cls.predictions.transform.dense.bias', 'cls.predictions.decoder.weight', 'cls.predictions.transform.LayerNorm.weight']\n",
      "- This IS expected if you are initializing LayoutLMForTokenClassification from the checkpoint of a model trained on another task or with another architecture (e.g. initializing a BertForSequenceClassification model from a BertForPreTraining model).\n",
      "- This IS NOT expected if you are initializing LayoutLMForTokenClassification from the checkpoint of a model that you expect to be exactly identical (initializing a BertForSequenceClassification model from a BertForSequenceClassification model).\n",
      "Some weights of LayoutLMForTokenClassification were not initialized from the model checkpoint at microsoft/layoutlm-base-uncased and are newly initialized: ['classifier.weight', 'classifier.bias']\n",
      "You should probably TRAIN this model on a down-stream task to be able to use it for predictions and inference.\n"
     ]
    }
   ],
   "source": [
    "from transformers import AutoTokenizer, LayoutLMForTokenClassification, LayoutLMv2Processor\n",
    "import torch\n",
    "\n",
    "# load model with correct number of labels and mapping\n",
    "model = LayoutLMForTokenClassification.from_pretrained(model_id, num_labels=len(labels), label2id=label2id, id2label=id2label)\n",
    "\n",
    "# use LayoutLMv2 processor\n",
    "processor = LayoutLMv2Processor.from_pretrained(processor_id,apply_ocr=False)\n"
   ]
  },
  {
   "cell_type": "code",
   "execution_count": 118,
   "metadata": {},
   "outputs": [
    {
     "data": {
      "application/vnd.jupyter.widget-view+json": {
       "model_id": "46e852f38ba742f0bc65afb14677e0cb",
       "version_major": 2,
       "version_minor": 0
      },
      "text/plain": [
       "  0%|          | 0/149 [00:00<?, ?ex/s]"
      ]
     },
     "metadata": {},
     "output_type": "display_data"
    },
    {
     "data": {
      "application/vnd.jupyter.widget-view+json": {
       "model_id": "b33895a95233414187d19846e12b3ce5",
       "version_major": 2,
       "version_minor": 0
      },
      "text/plain": [
       "  0%|          | 0/50 [00:00<?, ?ex/s]"
      ]
     },
     "metadata": {},
     "output_type": "display_data"
    },
    {
     "name": "stdout",
     "output_type": "stream",
     "text": [
      "dict_keys(['input_ids', 'attention_mask', 'token_type_ids', 'bbox', 'labels'])\n"
     ]
    }
   ],
   "source": [
    "from PIL import Image\n",
    "from functools import partial\n",
    "from datasets import Features, Sequence, ClassLabel, Value, Array2D, Array3D\n",
    "from torch.utils.data import DataLoader\n",
    "\n",
    "\n",
    "# we need to define custom features\n",
    "features = Features({\n",
    "    'input_ids': Sequence(feature=Value(dtype='int64')),\n",
    "    'attention_mask': Sequence(Value(dtype='int64')),\n",
    "    'token_type_ids': Sequence(Value(dtype='int64')),\n",
    "    'bbox': Array2D(dtype=\"int64\", shape=(512, 4)),\n",
    "    'labels': Sequence(ClassLabel(names=labels)),\n",
    "})\n",
    "\n",
    "def process(sample, processor=None):\n",
    "    encoding = processor(\n",
    "        Image.open(sample[\"image_path\"]).convert(\"RGB\"),\n",
    "        sample[\"words\"],\n",
    "        boxes=sample[\"bboxes\"],\n",
    "        word_labels=sample[\"ner_tags\"],\n",
    "        padding=\"max_length\",\n",
    "        truncation=True,\n",
    "    )\n",
    "    del encoding[\"image\"]\n",
    "    return encoding\n",
    "\n",
    "\n",
    "proc_dataset = dataset.map(\n",
    "    partial(process, processor=processor), remove_columns=[\"image_path\", \"words\", \"ner_tags\", \"id\", \"bboxes\"],features=features\n",
    ").with_format(\"torch\")\n",
    "# dict_keys(['input_ids', 'token_type_ids', 'attention_mask', 'bbox','lables'])\n",
    "print(proc_dataset[\"train\"].features.keys())\n",
    "\n",
    "# # create DataLoader with batch size\n",
    "# train_dataloader = DataLoader(proc_dataset[\"train\"], batch_size=4, shuffle=True)\n",
    "# test_dataloader = DataLoader(proc_dataset[\"test\"], batch_size=2)\n"
   ]
  },
  {
   "cell_type": "code",
   "execution_count": 142,
   "metadata": {},
   "outputs": [],
   "source": [
    "import evaluate\n",
    "import numpy as np \n",
    "# Metrics\n",
    "metric = evaluate.load(\"seqeval\")\n",
    "\n",
    "ner_labels=list(model.config.id2label.values())\n",
    "\n",
    "def compute_metrics(p):\n",
    "    predictions, labels = p\n",
    "    predictions = np.argmax(predictions, axis=2)\n",
    "\n",
    "    all_predictions = []\n",
    "    all_labels = []\n",
    "    for prediction, label in zip(predictions, labels):\n",
    "        for predicted_idx, label_idx in zip(prediction, label):\n",
    "            if label_idx == -100:\n",
    "                continue\n",
    "            all_predictions.append(ner_labels[predicted_idx])\n",
    "            all_labels.append(ner_labels[label_idx])\n",
    "    return metric.compute(predictions=[all_predictions], references=[all_labels])\n"
   ]
  },
  {
   "cell_type": "code",
   "execution_count": 147,
   "metadata": {},
   "outputs": [
    {
     "name": "stderr",
     "output_type": "stream",
     "text": [
      "PyTorch: setting up devices\n",
      "The default value for the training argument `--report_to` will change in v5 (from all installed integrations to none). In v5, you will need to use `--report_to all` to get the same behavior as now. You should start updating your code and make this info disappear :-).\n",
      "Using cuda_amp half precision backend\n"
     ]
    }
   ],
   "source": [
    "from transformers import Trainer, TrainingArguments\n",
    "\n",
    "# define training args\n",
    "training_args = TrainingArguments(\n",
    "    output_dir=\"test/\",\n",
    "    num_train_epochs=10,\n",
    "    per_device_train_batch_size=8,\n",
    "    per_device_eval_batch_size=4,\n",
    "    warmup_steps=10,\n",
    "    save_total_limit=2,\n",
    "    evaluation_strategy=\"epoch\",\n",
    "    save_strategy=\"epoch\",\n",
    "    fp16=True,\n",
    "    logging_dir=\"test/logs\",\n",
    "    learning_rate=5e-5,\n",
    "    load_best_model_at_end=True,\n",
    "    metric_for_best_model=\"overall_f1\",\n",
    "    \n",
    ")\n",
    "\n",
    "# create Trainer instance\n",
    "trainer = Trainer(\n",
    "    model=model,\n",
    "    args=training_args,\n",
    "    train_dataset=proc_dataset[\"train\"],\n",
    "    eval_dataset=proc_dataset[\"test\"],\n",
    "    compute_metrics=compute_metrics,\n",
    ")"
   ]
  },
  {
   "cell_type": "code",
   "execution_count": 148,
   "metadata": {},
   "outputs": [
    {
     "name": "stderr",
     "output_type": "stream",
     "text": [
      "/home/ubuntu/miniconda/envs/dev/lib/python3.9/site-packages/transformers/optimization.py:306: FutureWarning: This implementation of AdamW is deprecated and will be removed in a future version. Use the PyTorch implementation torch.optim.AdamW instead, or set `no_deprecation_warning=True` to disable this warning\n",
      "  warnings.warn(\n",
      "***** Running training *****\n",
      "  Num examples = 149\n",
      "  Num Epochs = 10\n",
      "  Instantaneous batch size per device = 8\n",
      "  Total train batch size (w. parallel, distributed & accumulation) = 8\n",
      "  Gradient Accumulation steps = 1\n",
      "  Total optimization steps = 190\n"
     ]
    },
    {
     "data": {
      "text/html": [
       "\n",
       "    <div>\n",
       "      \n",
       "      <progress value='190' max='190' style='width:300px; height:20px; vertical-align: middle;'></progress>\n",
       "      [190/190 02:14, Epoch 10/10]\n",
       "    </div>\n",
       "    <table border=\"1\" class=\"dataframe\">\n",
       "  <thead>\n",
       " <tr style=\"text-align: left;\">\n",
       "      <th>Epoch</th>\n",
       "      <th>Training Loss</th>\n",
       "      <th>Validation Loss</th>\n",
       "      <th>Answer</th>\n",
       "      <th>Header</th>\n",
       "      <th>Question</th>\n",
       "      <th>Overall Precision</th>\n",
       "      <th>Overall Recall</th>\n",
       "      <th>Overall F1</th>\n",
       "      <th>Overall Accuracy</th>\n",
       "    </tr>\n",
       "  </thead>\n",
       "  <tbody>\n",
       "    <tr>\n",
       "      <td>1</td>\n",
       "      <td>No log</td>\n",
       "      <td>1.198082</td>\n",
       "      <td>{'precision': 0.6900523560209424, 'recall': 0.8145859085290482, 'f1': 0.7471655328798186, 'number': 809}</td>\n",
       "      <td>{'precision': 0.49624060150375937, 'recall': 0.5546218487394958, 'f1': 0.523809523809524, 'number': 119}</td>\n",
       "      <td>{'precision': 0.8104693140794224, 'recall': 0.8431924882629108, 'f1': 0.8265071329958583, 'number': 1065}</td>\n",
       "      <td>0.739071</td>\n",
       "      <td>0.814350</td>\n",
       "      <td>0.774887</td>\n",
       "      <td>0.808896</td>\n",
       "    </tr>\n",
       "    <tr>\n",
       "      <td>2</td>\n",
       "      <td>No log</td>\n",
       "      <td>1.127327</td>\n",
       "      <td>{'precision': 0.6597724922440538, 'recall': 0.788627935723115, 'f1': 0.7184684684684686, 'number': 809}</td>\n",
       "      <td>{'precision': 0.4420289855072464, 'recall': 0.5126050420168067, 'f1': 0.47470817120622566, 'number': 119}</td>\n",
       "      <td>{'precision': 0.8003820439350525, 'recall': 0.7868544600938967, 'f1': 0.7935606060606062, 'number': 1065}</td>\n",
       "      <td>0.714219</td>\n",
       "      <td>0.771199</td>\n",
       "      <td>0.741616</td>\n",
       "      <td>0.798155</td>\n",
       "    </tr>\n",
       "    <tr>\n",
       "      <td>3</td>\n",
       "      <td>No log</td>\n",
       "      <td>1.313972</td>\n",
       "      <td>{'precision': 0.7425997425997426, 'recall': 0.7132262051915945, 'f1': 0.7276166456494325, 'number': 809}</td>\n",
       "      <td>{'precision': 0.43283582089552236, 'recall': 0.48739495798319327, 'f1': 0.45849802371541504, 'number': 119}</td>\n",
       "      <td>{'precision': 0.7814451382694023, 'recall': 0.8225352112676056, 'f1': 0.8014638609332113, 'number': 1065}</td>\n",
       "      <td>0.743602</td>\n",
       "      <td>0.758154</td>\n",
       "      <td>0.750807</td>\n",
       "      <td>0.780995</td>\n",
       "    </tr>\n",
       "    <tr>\n",
       "      <td>4</td>\n",
       "      <td>No log</td>\n",
       "      <td>1.230214</td>\n",
       "      <td>{'precision': 0.6932907348242812, 'recall': 0.8046971569839307, 'f1': 0.7448512585812357, 'number': 809}</td>\n",
       "      <td>{'precision': 0.4198473282442748, 'recall': 0.46218487394957986, 'f1': 0.43999999999999995, 'number': 119}</td>\n",
       "      <td>{'precision': 0.8133704735376045, 'recall': 0.8225352112676056, 'f1': 0.8179271708683474, 'number': 1065}</td>\n",
       "      <td>0.736842</td>\n",
       "      <td>0.793778</td>\n",
       "      <td>0.764251</td>\n",
       "      <td>0.802241</td>\n",
       "    </tr>\n",
       "    <tr>\n",
       "      <td>5</td>\n",
       "      <td>No log</td>\n",
       "      <td>1.160230</td>\n",
       "      <td>{'precision': 0.7191011235955056, 'recall': 0.7911001236093943, 'f1': 0.7533843437316068, 'number': 809}</td>\n",
       "      <td>{'precision': 0.42953020134228187, 'recall': 0.5378151260504201, 'f1': 0.47761194029850745, 'number': 119}</td>\n",
       "      <td>{'precision': 0.8119180633147114, 'recall': 0.8187793427230047, 'f1': 0.8153342683496961, 'number': 1065}</td>\n",
       "      <td>0.745859</td>\n",
       "      <td>0.790768</td>\n",
       "      <td>0.767657</td>\n",
       "      <td>0.807728</td>\n",
       "    </tr>\n",
       "    <tr>\n",
       "      <td>6</td>\n",
       "      <td>No log</td>\n",
       "      <td>1.213809</td>\n",
       "      <td>{'precision': 0.717607973421927, 'recall': 0.8009888751545118, 'f1': 0.7570093457943926, 'number': 809}</td>\n",
       "      <td>{'precision': 0.40236686390532544, 'recall': 0.5714285714285714, 'f1': 0.4722222222222222, 'number': 119}</td>\n",
       "      <td>{'precision': 0.8108614232209738, 'recall': 0.8131455399061033, 'f1': 0.8120018752930145, 'number': 1065}</td>\n",
       "      <td>0.739252</td>\n",
       "      <td>0.793778</td>\n",
       "      <td>0.765546</td>\n",
       "      <td>0.806444</td>\n",
       "    </tr>\n",
       "    <tr>\n",
       "      <td>7</td>\n",
       "      <td>No log</td>\n",
       "      <td>1.190648</td>\n",
       "      <td>{'precision': 0.7051835853131749, 'recall': 0.8071693448702101, 'f1': 0.7527377521613834, 'number': 809}</td>\n",
       "      <td>{'precision': 0.4397163120567376, 'recall': 0.5210084033613446, 'f1': 0.47692307692307695, 'number': 119}</td>\n",
       "      <td>{'precision': 0.8256704980842912, 'recall': 0.8093896713615023, 'f1': 0.8174490279753437, 'number': 1065}</td>\n",
       "      <td>0.747039</td>\n",
       "      <td>0.791269</td>\n",
       "      <td>0.768519</td>\n",
       "      <td>0.809946</td>\n",
       "    </tr>\n",
       "    <tr>\n",
       "      <td>8</td>\n",
       "      <td>No log</td>\n",
       "      <td>1.197716</td>\n",
       "      <td>{'precision': 0.7095032397408207, 'recall': 0.8121137206427689, 'f1': 0.7573487031700288, 'number': 809}</td>\n",
       "      <td>{'precision': 0.45, 'recall': 0.5294117647058824, 'f1': 0.48648648648648646, 'number': 119}</td>\n",
       "      <td>{'precision': 0.8297067171239356, 'recall': 0.8234741784037559, 'f1': 0.8265786993402451, 'number': 1065}</td>\n",
       "      <td>0.752237</td>\n",
       "      <td>0.801305</td>\n",
       "      <td>0.775996</td>\n",
       "      <td>0.814382</td>\n",
       "    </tr>\n",
       "    <tr>\n",
       "      <td>9</td>\n",
       "      <td>No log</td>\n",
       "      <td>1.205558</td>\n",
       "      <td>{'precision': 0.7213656387665198, 'recall': 0.8096415327564895, 'f1': 0.762958648806057, 'number': 809}</td>\n",
       "      <td>{'precision': 0.45323741007194246, 'recall': 0.5294117647058824, 'f1': 0.48837209302325585, 'number': 119}</td>\n",
       "      <td>{'precision': 0.8278457196613358, 'recall': 0.8262910798122066, 'f1': 0.8270676691729324, 'number': 1065}</td>\n",
       "      <td>0.757346</td>\n",
       "      <td>0.801806</td>\n",
       "      <td>0.778942</td>\n",
       "      <td>0.815550</td>\n",
       "    </tr>\n",
       "    <tr>\n",
       "      <td>10</td>\n",
       "      <td>No log</td>\n",
       "      <td>1.212314</td>\n",
       "      <td>{'precision': 0.7240618101545254, 'recall': 0.8108776266996292, 'f1': 0.7650145772594752, 'number': 809}</td>\n",
       "      <td>{'precision': 0.4583333333333333, 'recall': 0.5546218487394958, 'f1': 0.5019011406844106, 'number': 119}</td>\n",
       "      <td>{'precision': 0.8270676691729323, 'recall': 0.8262910798122066, 'f1': 0.8266791921089715, 'number': 1065}</td>\n",
       "      <td>0.757805</td>\n",
       "      <td>0.803813</td>\n",
       "      <td>0.780131</td>\n",
       "      <td>0.814032</td>\n",
       "    </tr>\n",
       "  </tbody>\n",
       "</table><p>"
      ],
      "text/plain": [
       "<IPython.core.display.HTML object>"
      ]
     },
     "metadata": {},
     "output_type": "display_data"
    },
    {
     "name": "stderr",
     "output_type": "stream",
     "text": [
      "***** Running Evaluation *****\n",
      "  Num examples = 50\n",
      "  Batch size = 4\n",
      "Trainer is attempting to log a value of \"{'precision': 0.6900523560209424, 'recall': 0.8145859085290482, 'f1': 0.7471655328798186, 'number': 809}\" of type <class 'dict'> for key \"eval/ANSWER\" as a scalar. This invocation of Tensorboard's writer.add_scalar() is incorrect so we dropped this attribute.\n",
      "Trainer is attempting to log a value of \"{'precision': 0.49624060150375937, 'recall': 0.5546218487394958, 'f1': 0.523809523809524, 'number': 119}\" of type <class 'dict'> for key \"eval/HEADER\" as a scalar. This invocation of Tensorboard's writer.add_scalar() is incorrect so we dropped this attribute.\n",
      "Trainer is attempting to log a value of \"{'precision': 0.8104693140794224, 'recall': 0.8431924882629108, 'f1': 0.8265071329958583, 'number': 1065}\" of type <class 'dict'> for key \"eval/QUESTION\" as a scalar. This invocation of Tensorboard's writer.add_scalar() is incorrect so we dropped this attribute.\n",
      "Saving model checkpoint to test/checkpoint-19\n",
      "Configuration saved in test/checkpoint-19/config.json\n",
      "Model weights saved in test/checkpoint-19/pytorch_model.bin\n",
      "Deleting older checkpoint [test/checkpoint-76] due to args.save_total_limit\n",
      "***** Running Evaluation *****\n",
      "  Num examples = 50\n",
      "  Batch size = 4\n",
      "Trainer is attempting to log a value of \"{'precision': 0.6597724922440538, 'recall': 0.788627935723115, 'f1': 0.7184684684684686, 'number': 809}\" of type <class 'dict'> for key \"eval/ANSWER\" as a scalar. This invocation of Tensorboard's writer.add_scalar() is incorrect so we dropped this attribute.\n",
      "Trainer is attempting to log a value of \"{'precision': 0.4420289855072464, 'recall': 0.5126050420168067, 'f1': 0.47470817120622566, 'number': 119}\" of type <class 'dict'> for key \"eval/HEADER\" as a scalar. This invocation of Tensorboard's writer.add_scalar() is incorrect so we dropped this attribute.\n",
      "Trainer is attempting to log a value of \"{'precision': 0.8003820439350525, 'recall': 0.7868544600938967, 'f1': 0.7935606060606062, 'number': 1065}\" of type <class 'dict'> for key \"eval/QUESTION\" as a scalar. This invocation of Tensorboard's writer.add_scalar() is incorrect so we dropped this attribute.\n",
      "Saving model checkpoint to test/checkpoint-38\n",
      "Configuration saved in test/checkpoint-38/config.json\n",
      "Model weights saved in test/checkpoint-38/pytorch_model.bin\n",
      "Deleting older checkpoint [test/checkpoint-95] due to args.save_total_limit\n",
      "***** Running Evaluation *****\n",
      "  Num examples = 50\n",
      "  Batch size = 4\n",
      "Trainer is attempting to log a value of \"{'precision': 0.7425997425997426, 'recall': 0.7132262051915945, 'f1': 0.7276166456494325, 'number': 809}\" of type <class 'dict'> for key \"eval/ANSWER\" as a scalar. This invocation of Tensorboard's writer.add_scalar() is incorrect so we dropped this attribute.\n",
      "Trainer is attempting to log a value of \"{'precision': 0.43283582089552236, 'recall': 0.48739495798319327, 'f1': 0.45849802371541504, 'number': 119}\" of type <class 'dict'> for key \"eval/HEADER\" as a scalar. This invocation of Tensorboard's writer.add_scalar() is incorrect so we dropped this attribute.\n",
      "Trainer is attempting to log a value of \"{'precision': 0.7814451382694023, 'recall': 0.8225352112676056, 'f1': 0.8014638609332113, 'number': 1065}\" of type <class 'dict'> for key \"eval/QUESTION\" as a scalar. This invocation of Tensorboard's writer.add_scalar() is incorrect so we dropped this attribute.\n",
      "Saving model checkpoint to test/checkpoint-57\n",
      "Configuration saved in test/checkpoint-57/config.json\n",
      "Model weights saved in test/checkpoint-57/pytorch_model.bin\n",
      "Deleting older checkpoint [test/checkpoint-38] due to args.save_total_limit\n",
      "***** Running Evaluation *****\n",
      "  Num examples = 50\n",
      "  Batch size = 4\n",
      "Trainer is attempting to log a value of \"{'precision': 0.6932907348242812, 'recall': 0.8046971569839307, 'f1': 0.7448512585812357, 'number': 809}\" of type <class 'dict'> for key \"eval/ANSWER\" as a scalar. This invocation of Tensorboard's writer.add_scalar() is incorrect so we dropped this attribute.\n",
      "Trainer is attempting to log a value of \"{'precision': 0.4198473282442748, 'recall': 0.46218487394957986, 'f1': 0.43999999999999995, 'number': 119}\" of type <class 'dict'> for key \"eval/HEADER\" as a scalar. This invocation of Tensorboard's writer.add_scalar() is incorrect so we dropped this attribute.\n",
      "Trainer is attempting to log a value of \"{'precision': 0.8133704735376045, 'recall': 0.8225352112676056, 'f1': 0.8179271708683474, 'number': 1065}\" of type <class 'dict'> for key \"eval/QUESTION\" as a scalar. This invocation of Tensorboard's writer.add_scalar() is incorrect so we dropped this attribute.\n",
      "Saving model checkpoint to test/checkpoint-76\n",
      "Configuration saved in test/checkpoint-76/config.json\n",
      "Model weights saved in test/checkpoint-76/pytorch_model.bin\n",
      "Deleting older checkpoint [test/checkpoint-57] due to args.save_total_limit\n",
      "***** Running Evaluation *****\n",
      "  Num examples = 50\n",
      "  Batch size = 4\n",
      "Trainer is attempting to log a value of \"{'precision': 0.7191011235955056, 'recall': 0.7911001236093943, 'f1': 0.7533843437316068, 'number': 809}\" of type <class 'dict'> for key \"eval/ANSWER\" as a scalar. This invocation of Tensorboard's writer.add_scalar() is incorrect so we dropped this attribute.\n",
      "Trainer is attempting to log a value of \"{'precision': 0.42953020134228187, 'recall': 0.5378151260504201, 'f1': 0.47761194029850745, 'number': 119}\" of type <class 'dict'> for key \"eval/HEADER\" as a scalar. This invocation of Tensorboard's writer.add_scalar() is incorrect so we dropped this attribute.\n",
      "Trainer is attempting to log a value of \"{'precision': 0.8119180633147114, 'recall': 0.8187793427230047, 'f1': 0.8153342683496961, 'number': 1065}\" of type <class 'dict'> for key \"eval/QUESTION\" as a scalar. This invocation of Tensorboard's writer.add_scalar() is incorrect so we dropped this attribute.\n",
      "Saving model checkpoint to test/checkpoint-95\n",
      "Configuration saved in test/checkpoint-95/config.json\n",
      "Model weights saved in test/checkpoint-95/pytorch_model.bin\n",
      "Deleting older checkpoint [test/checkpoint-76] due to args.save_total_limit\n",
      "***** Running Evaluation *****\n",
      "  Num examples = 50\n",
      "  Batch size = 4\n",
      "Trainer is attempting to log a value of \"{'precision': 0.717607973421927, 'recall': 0.8009888751545118, 'f1': 0.7570093457943926, 'number': 809}\" of type <class 'dict'> for key \"eval/ANSWER\" as a scalar. This invocation of Tensorboard's writer.add_scalar() is incorrect so we dropped this attribute.\n",
      "Trainer is attempting to log a value of \"{'precision': 0.40236686390532544, 'recall': 0.5714285714285714, 'f1': 0.4722222222222222, 'number': 119}\" of type <class 'dict'> for key \"eval/HEADER\" as a scalar. This invocation of Tensorboard's writer.add_scalar() is incorrect so we dropped this attribute.\n",
      "Trainer is attempting to log a value of \"{'precision': 0.8108614232209738, 'recall': 0.8131455399061033, 'f1': 0.8120018752930145, 'number': 1065}\" of type <class 'dict'> for key \"eval/QUESTION\" as a scalar. This invocation of Tensorboard's writer.add_scalar() is incorrect so we dropped this attribute.\n",
      "Saving model checkpoint to test/checkpoint-114\n",
      "Configuration saved in test/checkpoint-114/config.json\n",
      "Model weights saved in test/checkpoint-114/pytorch_model.bin\n",
      "Deleting older checkpoint [test/checkpoint-95] due to args.save_total_limit\n",
      "***** Running Evaluation *****\n",
      "  Num examples = 50\n",
      "  Batch size = 4\n",
      "Trainer is attempting to log a value of \"{'precision': 0.7051835853131749, 'recall': 0.8071693448702101, 'f1': 0.7527377521613834, 'number': 809}\" of type <class 'dict'> for key \"eval/ANSWER\" as a scalar. This invocation of Tensorboard's writer.add_scalar() is incorrect so we dropped this attribute.\n",
      "Trainer is attempting to log a value of \"{'precision': 0.4397163120567376, 'recall': 0.5210084033613446, 'f1': 0.47692307692307695, 'number': 119}\" of type <class 'dict'> for key \"eval/HEADER\" as a scalar. This invocation of Tensorboard's writer.add_scalar() is incorrect so we dropped this attribute.\n",
      "Trainer is attempting to log a value of \"{'precision': 0.8256704980842912, 'recall': 0.8093896713615023, 'f1': 0.8174490279753437, 'number': 1065}\" of type <class 'dict'> for key \"eval/QUESTION\" as a scalar. This invocation of Tensorboard's writer.add_scalar() is incorrect so we dropped this attribute.\n",
      "Saving model checkpoint to test/checkpoint-133\n",
      "Configuration saved in test/checkpoint-133/config.json\n",
      "Model weights saved in test/checkpoint-133/pytorch_model.bin\n",
      "Deleting older checkpoint [test/checkpoint-114] due to args.save_total_limit\n",
      "***** Running Evaluation *****\n",
      "  Num examples = 50\n",
      "  Batch size = 4\n",
      "Trainer is attempting to log a value of \"{'precision': 0.7095032397408207, 'recall': 0.8121137206427689, 'f1': 0.7573487031700288, 'number': 809}\" of type <class 'dict'> for key \"eval/ANSWER\" as a scalar. This invocation of Tensorboard's writer.add_scalar() is incorrect so we dropped this attribute.\n",
      "Trainer is attempting to log a value of \"{'precision': 0.45, 'recall': 0.5294117647058824, 'f1': 0.48648648648648646, 'number': 119}\" of type <class 'dict'> for key \"eval/HEADER\" as a scalar. This invocation of Tensorboard's writer.add_scalar() is incorrect so we dropped this attribute.\n",
      "Trainer is attempting to log a value of \"{'precision': 0.8297067171239356, 'recall': 0.8234741784037559, 'f1': 0.8265786993402451, 'number': 1065}\" of type <class 'dict'> for key \"eval/QUESTION\" as a scalar. This invocation of Tensorboard's writer.add_scalar() is incorrect so we dropped this attribute.\n",
      "Saving model checkpoint to test/checkpoint-152\n",
      "Configuration saved in test/checkpoint-152/config.json\n",
      "Model weights saved in test/checkpoint-152/pytorch_model.bin\n",
      "Deleting older checkpoint [test/checkpoint-19] due to args.save_total_limit\n",
      "***** Running Evaluation *****\n",
      "  Num examples = 50\n",
      "  Batch size = 4\n",
      "Trainer is attempting to log a value of \"{'precision': 0.7213656387665198, 'recall': 0.8096415327564895, 'f1': 0.762958648806057, 'number': 809}\" of type <class 'dict'> for key \"eval/ANSWER\" as a scalar. This invocation of Tensorboard's writer.add_scalar() is incorrect so we dropped this attribute.\n",
      "Trainer is attempting to log a value of \"{'precision': 0.45323741007194246, 'recall': 0.5294117647058824, 'f1': 0.48837209302325585, 'number': 119}\" of type <class 'dict'> for key \"eval/HEADER\" as a scalar. This invocation of Tensorboard's writer.add_scalar() is incorrect so we dropped this attribute.\n",
      "Trainer is attempting to log a value of \"{'precision': 0.8278457196613358, 'recall': 0.8262910798122066, 'f1': 0.8270676691729324, 'number': 1065}\" of type <class 'dict'> for key \"eval/QUESTION\" as a scalar. This invocation of Tensorboard's writer.add_scalar() is incorrect so we dropped this attribute.\n",
      "Saving model checkpoint to test/checkpoint-171\n",
      "Configuration saved in test/checkpoint-171/config.json\n",
      "Model weights saved in test/checkpoint-171/pytorch_model.bin\n",
      "Deleting older checkpoint [test/checkpoint-133] due to args.save_total_limit\n",
      "***** Running Evaluation *****\n",
      "  Num examples = 50\n",
      "  Batch size = 4\n",
      "Trainer is attempting to log a value of \"{'precision': 0.7240618101545254, 'recall': 0.8108776266996292, 'f1': 0.7650145772594752, 'number': 809}\" of type <class 'dict'> for key \"eval/ANSWER\" as a scalar. This invocation of Tensorboard's writer.add_scalar() is incorrect so we dropped this attribute.\n",
      "Trainer is attempting to log a value of \"{'precision': 0.4583333333333333, 'recall': 0.5546218487394958, 'f1': 0.5019011406844106, 'number': 119}\" of type <class 'dict'> for key \"eval/HEADER\" as a scalar. This invocation of Tensorboard's writer.add_scalar() is incorrect so we dropped this attribute.\n",
      "Trainer is attempting to log a value of \"{'precision': 0.8270676691729323, 'recall': 0.8262910798122066, 'f1': 0.8266791921089715, 'number': 1065}\" of type <class 'dict'> for key \"eval/QUESTION\" as a scalar. This invocation of Tensorboard's writer.add_scalar() is incorrect so we dropped this attribute.\n",
      "Saving model checkpoint to test/checkpoint-190\n",
      "Configuration saved in test/checkpoint-190/config.json\n",
      "Model weights saved in test/checkpoint-190/pytorch_model.bin\n",
      "Deleting older checkpoint [test/checkpoint-152] due to args.save_total_limit\n",
      "\n",
      "\n",
      "Training completed. Do not forget to share your model on huggingface.co/models =)\n",
      "\n",
      "\n",
      "Loading best model from test/checkpoint-190 (score: 0.7801314828341857).\n"
     ]
    },
    {
     "data": {
      "text/plain": [
       "TrainOutput(global_step=190, training_loss=0.010297049346723054, metrics={'train_runtime': 135.3717, 'train_samples_per_second': 11.007, 'train_steps_per_second': 1.404, 'total_flos': 392053072128000.0, 'train_loss': 0.010297049346723054, 'epoch': 10.0})"
      ]
     },
     "execution_count": 148,
     "metadata": {},
     "output_type": "execute_result"
    }
   ],
   "source": [
    "trainer.train()"
   ]
  },
  {
   "cell_type": "code",
   "execution_count": null,
   "metadata": {},
   "outputs": [],
   "source": []
  }
 ],
 "metadata": {
  "kernelspec": {
   "display_name": "Python 3.9.13 ('dev')",
   "language": "python",
   "name": "python3"
  },
  "language_info": {
   "codemirror_mode": {
    "name": "ipython",
    "version": 3
   },
   "file_extension": ".py",
   "mimetype": "text/x-python",
   "name": "python",
   "nbconvert_exporter": "python",
   "pygments_lexer": "ipython3",
   "version": "3.9.13"
  },
  "orig_nbformat": 4,
  "vscode": {
   "interpreter": {
    "hash": "f6dd96c16031089903d5a31ec148b80aeb0d39c32affb1a1080393235fbfa2fc"
   }
  }
 },
 "nbformat": 4,
 "nbformat_minor": 2
}
