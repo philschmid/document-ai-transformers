{
 "cells": [
  {
   "cell_type": "markdown",
   "metadata": {},
   "source": [
    "# Document AI: Fine-tuning Donut for document-parsing using Hugging Face Transformers \n",
    "\n",
    "TODO: Add intro for blog why Donut and not LayoutLM and what is DocumentAI\n",
    "\n",
    "In this blog, you will learn how to fine-tune [Donut-base](https://huggingface.co/naver-clova-ix/donut-base) for document-understaind/document-parsing using Hugging Face Transformers.We are going use all of the great features from the Hugging Face ecosystem like model versioning and experiment tracking.\n",
    "\n",
    "\n",
    "As dataset we will use the [SROIE](https://github.com/zzzDavid/ICDAR-2019-SROIE) dataset a collection of 1000 scanned receipts including their OCR. More information for the dataset can be found at the [repository](https://github.com/zzzDavid/ICDAR-2019-SROIE).\n",
    "\n",
    "You will learn how to:\n",
    "\n",
    "1. [Setup Development Environment](#1-setup-habana-gaudi-instance)\n",
    "2. [Load SROIE dataset](#2-load-and-process-the-dataset) and process the \n",
    "3. [Prepare dataset for donut](#3-create-a-gauditrainer-and-an-run-single-hpu-fine-tuning)\n",
    "4. [Run training and evaluation](#4-run-distributed-data-parallel-training-with-gauditrainer)\n",
    "\n",
    "Before we can start make sure you have a [Hugging Face Account](https://huggingface.co/join) to save artifacts and experiments. \n",
    "\n",
    "## Quick intro: Document Understanding Transformer (Donut) by ClovaAI\n",
    "\n",
    "Document Understanding Transformer (Donut) is a new Transformer model for OCR-free document understanding. It doesn't require an OCR engine to process scanned documents, but is achieving state-of-the-art performances on various visual document understanding tasks, such as visual document classification or information extraction (a.k.a. document parsing). \n",
    "Donut is a multimodal sequence-to-sequence model with a vision enconder ([Swin Transformer](https://huggingface.co/docs/transformers/v4.21.2/en/model_doc/swin#overview)) and text decoder ([BART](https://huggingface.co/docs/transformers/v4.21.2/en/model_doc/bart)). The encoder receives the images and computes it into a embedding, which is then passed to the decoder, which generates a sequence of tokens.\n",
    "\n",
    "![donut](../assets//donut.png)\n",
    "\n",
    "* Paper: https://arxiv.org/abs/2111.15664\n",
    "* Official repo:  https://github.com/clovaai/donut\n",
    "\n",
    "--- \n",
    "\n",
    "Now we know how Donut works, so lets get started. 🚀"
   ]
  },
  {
   "cell_type": "markdown",
   "metadata": {},
   "source": [
    "## 1. Environment setup\n",
    "\n",
    "Our first step is to install the Hugging Face Libraries including transformers and datasets. Running the following cell will install all the required packages.\n",
    "\n",
    "_Note: As the time of writing this Donut is not yet included in the PyPi version of Transformers, so we need it to install from the `main` branch. Donut will be added in version `4.22.0`._\n"
   ]
  },
  {
   "cell_type": "code",
   "execution_count": null,
   "metadata": {},
   "outputs": [],
   "source": [
    "!pip install -q git+https://github.com/huggingface/transformers.git \n",
    "# !pip install -q \"transformers>=4.22.0\" # comment in when version is released\n",
    "!pip install -q datasets sentencepiece tensorboard"
   ]
  },
  {
   "cell_type": "code",
   "execution_count": null,
   "metadata": {},
   "outputs": [],
   "source": [
    "# install git-fls for pushing model and logs to the hugging face hub\n",
    "!sudo apt-get install git-lfs --yes"
   ]
  },
  {
   "cell_type": "markdown",
   "metadata": {},
   "source": [
    "This example will use the [Hugging Face Hub](https://huggingface.co/models) as a remote model versioning service. To be able to push our model to the Hub, you need to register on the [Hugging Face](https://huggingface.co/join). \n",
    "If you already have an account you can skip this step. \n",
    "After you have an account, we will use the `notebook_login` util from the `huggingface_hub` package to log into our account and store our token (access key) on the disk. "
   ]
  },
  {
   "cell_type": "code",
   "execution_count": null,
   "metadata": {},
   "outputs": [],
   "source": [
    "from huggingface_hub import notebook_login\n",
    "\n",
    "notebook_login()"
   ]
  },
  {
   "cell_type": "markdown",
   "metadata": {},
   "source": [
    "## 2. Load SROIE dataset\n",
    "\n",
    "As dataset we will use the [SROIE](https://github.com/zzzDavid/ICDAR-2019-SROIE) dataset a collection of 1000 scanned receipts including their OCR, more specifically we will use the dataset from task 2 \"Scanned Receipt OCR\". The available dataset on Hugging Face ([darentang/sroie](https://huggingface.co/datasets/darentang/sroie)) is not compatible with Donut. Thats why we will use the original dataset together with the `imagefolder` feature of `datasets` to load our dataset. Learn more about loading image data [here](https://huggingface.co/docs/datasets/v2.4.0/en/image_load#load-image-data).\n",
    "\n",
    "_Note: The test data for task2 is sadly not available. Meaning that we end up only with 624 images._\n",
    "\n",
    "As first we will cone the repository and extract the dataset into a separate folder and remove the unnecessary files.\n"
   ]
  },
  {
   "cell_type": "code",
   "execution_count": 6,
   "metadata": {},
   "outputs": [
    {
     "name": "stderr",
     "output_type": "stream",
     "text": [
      "Cloning into 'ICDAR-2019-SROIE'...\n",
      "Updating files: 100% (1980/1980), done.\n"
     ]
    }
   ],
   "source": [
    "%%bash \n",
    "# clone repository\n",
    "git clone https://github.com/zzzDavid/ICDAR-2019-SROIE.git\n",
    "# copy data\n",
    "cp -r ICDAR-2019-SROIE/data ./\n",
    "# clean up\n",
    "rm -rf ICDAR-2019-SROIE\n",
    "rm -rf data/box"
   ]
  },
  {
   "cell_type": "markdown",
   "metadata": {},
   "source": [
    "Now we have two folders inside the `data/` directory. One is containing the images of the receipts and the other is containing the OCR text. The nex step is to create a `metadata.json` file that contains the information about the images including the OCR-text. This is necessary for the `imagefolder` feature of `datasets`.\n",
    "\n",
    "The `metadata.json` should look at the end similar to the example below\n",
    "\n",
    "```json\n",
    "{\"file_name\": \"0001.png\", \"text\": \"This is a golden retriever playing with a ball\"}\n",
    "{\"file_name\": \"0002.png\", \"text\": \"A german shepherd\"}\n",
    "```\n",
    "\n",
    "In our example will `\"text\"` column contain the OCR text of the image, which will later be used for creating the Donut specific format."
   ]
  },
  {
   "cell_type": "code",
   "execution_count": 7,
   "metadata": {},
   "outputs": [],
   "source": [
    "import os\n",
    "import json\n",
    "from pathlib import Path\n",
    "import shutil\n",
    "\n",
    "# define paths\n",
    "base_path = Path(\"data\")\n",
    "metadata_path = base_path.joinpath(\"key\")\n",
    "image_path = base_path.joinpath(\"img\")\n",
    "# define metadata list\n",
    "metadata_list = []\n",
    "\n",
    "# parse metadata\n",
    "for file_name in metadata_path.glob(\"*.json\"):\n",
    "  with open(file_name, \"r\") as json_file:\n",
    "    # load json file\n",
    "    data = json.load(json_file)\n",
    "    # create \"text\" column with json string\n",
    "    text = json.dumps(data)\n",
    "    # add to metadata list if image exists\n",
    "    if image_path.joinpath(f\"{file_name.stem}.jpg\").is_file():    \n",
    "      metadata_list.append({\"text\":text,\"file_name\":f\"{file_name.stem}.jpg\"})\n",
    "      # delete json file\n",
    "      \n",
    "# write jsonline file\n",
    "with open(image_path.joinpath('metadata.jsonl'), 'w') as outfile:\n",
    "    for entry in metadata_list:\n",
    "        json.dump(entry, outfile)\n",
    "        outfile.write('\\n')\n",
    "\n",
    "# remove old meta data\n",
    "shutil.rmtree(metadata_path)"
   ]
  },
  {
   "cell_type": "markdown",
   "metadata": {},
   "source": [
    "Good Job! Now we can load the dataset using the `imagefolder` feature of `datasets`."
   ]
  },
  {
   "cell_type": "code",
   "execution_count": 8,
   "metadata": {},
   "outputs": [],
   "source": [
    "import os\n",
    "import json\n",
    "from pathlib import Path\n",
    "import shutil\n",
    "\n",
    "# define paths\n",
    "base_path = Path(\"data\")\n",
    "metadata_path = base_path.joinpath(\"key\")\n",
    "image_path = base_path.joinpath(\"img\")\n",
    "# define metadata list"
   ]
  },
  {
   "cell_type": "code",
   "execution_count": 9,
   "metadata": {},
   "outputs": [
    {
     "name": "stderr",
     "output_type": "stream",
     "text": [
      "Resolving data files: 100%|██████████| 627/627 [00:00<00:00, 251610.08it/s]\n",
      "Using custom data configuration default-cf654459b4bbc8ea\n"
     ]
    },
    {
     "name": "stdout",
     "output_type": "stream",
     "text": [
      "Downloading and preparing dataset imagefolder/default to /home/ubuntu/.cache/huggingface/datasets/imagefolder/default-cf654459b4bbc8ea/0.0.0/0fc50c79b681877cc46b23245a6ef5333d036f48db40d53765a68034bc48faff...\n"
     ]
    },
    {
     "name": "stderr",
     "output_type": "stream",
     "text": [
      "Downloading data files #0:   0%|          | 0/40 [00:00<?, ?obj/s]\n",
      "\n",
      "\n",
      "\n",
      "\u001b[A\u001b[A\u001b[A\u001b[A\n",
      "\n",
      "\n",
      "\n",
      "\n",
      "\n",
      "\u001b[A\u001b[A\u001b[A\u001b[A\u001b[A\u001b[A\n",
      "\u001b[A\n",
      "\n",
      "\u001b[A\u001b[A\n",
      "\n",
      "\n",
      "\u001b[A\u001b[A\u001b[A\n",
      "\n",
      "\n",
      "\n",
      "\n",
      "\n",
      "\n",
      "\u001b[A\u001b[A\u001b[A\u001b[A\u001b[A\u001b[A\u001b[A\n",
      "\n",
      "\n",
      "\n",
      "\n",
      "\n",
      "\n",
      "\n",
      "\n",
      "\n",
      "\n",
      "Downloading data files #1: 100%|██████████| 40/40 [00:00<00:00, 1020.02obj/s]\n",
      "Downloading data files #7: 100%|██████████| 39/39 [00:00<00:00, 1369.54obj/s]\n",
      "Downloading data files #0: 100%|██████████| 40/40 [00:00<00:00, 964.06obj/s]\n",
      "Downloading data files #5: 100%|██████████| 39/39 [00:00<00:00, 996.37obj/s]\n",
      "\n",
      "\n",
      "\n",
      "\n",
      "\n",
      "\n",
      "\n",
      "\n",
      "\n",
      "\n",
      "\n",
      "\n",
      "\u001b[A\u001b[A\u001b[A\u001b[A\u001b[A\u001b[A\u001b[A\u001b[A\u001b[A\u001b[A\u001b[A\u001b[A\n",
      "\n",
      "\n",
      "\n",
      "\n",
      "\n",
      "\n",
      "\n",
      "\n",
      "\n",
      "\n",
      "\n",
      "\n",
      "\n",
      "\u001b[A\u001b[A\u001b[A\u001b[A\u001b[A\u001b[A\u001b[A\u001b[A\u001b[A\u001b[A\u001b[A\u001b[A\u001b[A\u001b[A\n",
      "\n",
      "\n",
      "\n",
      "\n",
      "\n",
      "\n",
      "\n",
      "\n",
      "\n",
      "\n",
      "\n",
      "\n",
      "\u001b[A\u001b[A\u001b[A\u001b[A\u001b[A\u001b[A\u001b[A\u001b[A\u001b[A\u001b[A\u001b[A\u001b[A\u001b[A\n",
      "\n",
      "\n",
      "\n",
      "\n",
      "\u001b[A\u001b[A\u001b[A\u001b[A\u001b[A\n",
      "\n",
      "\n",
      "\n",
      "\n",
      "\n",
      "\n",
      "\n",
      "\n",
      "\u001b[A\u001b[A\u001b[A\u001b[A\u001b[A\u001b[A\u001b[A\u001b[A\u001b[A\n",
      "\n",
      "\n",
      "\n",
      "\n",
      "\n",
      "\n",
      "\n",
      "\n",
      "\n",
      "\u001b[A\u001b[A\u001b[A\u001b[A\u001b[A\u001b[A\u001b[A\u001b[A\u001b[A\u001b[A\n",
      "\n",
      "\n",
      "\n",
      "\n",
      "\n",
      "\n",
      "\n",
      "Downloading data files #4: 100%|██████████| 39/39 [00:00<00:00, 659.08obj/s]\n",
      "Downloading data files #8: 100%|██████████| 39/39 [00:00<00:00, 690.77obj/s]\n",
      "Downloading data files #12: 100%|██████████| 39/39 [00:00<00:00, 717.28obj/s]\n",
      "Downloading data files #3: 100%|██████████| 39/39 [00:00<00:00, 541.17obj/s]\n",
      "Downloading data files #2: 100%|██████████| 40/40 [00:00<00:00, 505.36obj/s]\n",
      "Downloading data files #6: 100%|██████████| 39/39 [00:00<00:00, 1291.41obj/s]\n",
      "Downloading data files #13: 100%|██████████| 39/39 [00:00<00:00, 795.58obj/s]\n",
      "Downloading data files #15: 100%|██████████| 39/39 [00:00<00:00, 837.82obj/s]\n",
      "Downloading data files #14: 100%|██████████| 39/39 [00:00<00:00, 911.33obj/s]\n",
      "Downloading data files #11: 100%|██████████| 39/39 [00:00<00:00, 1333.12obj/s]\n",
      "Downloading data files #9: 100%|██████████| 39/39 [00:00<00:00, 1508.80obj/s]\n",
      "Downloading data files #10: 100%|██████████| 39/39 [00:00<00:00, 977.84obj/s]\n",
      "Downloading data files: 0it [00:00, ?it/s]\n",
      "Extracting data files: 0it [00:00, ?it/s]\n",
      "                                                                \r"
     ]
    },
    {
     "name": "stdout",
     "output_type": "stream",
     "text": [
      "Dataset imagefolder downloaded and prepared to /home/ubuntu/.cache/huggingface/datasets/imagefolder/default-cf654459b4bbc8ea/0.0.0/0fc50c79b681877cc46b23245a6ef5333d036f48db40d53765a68034bc48faff. Subsequent calls will reuse this data.\n",
      "Dataset has 626 images\n",
      "Dataset features are: dict_keys(['image', 'text'])\n"
     ]
    }
   ],
   "source": [
    "from datasets import load_dataset\n",
    "\n",
    "# Load dataset\n",
    "dataset = load_dataset(\"imagefolder\", data_dir=image_path, split=\"train\")\n",
    "\n",
    "print(f\"Dataset has {len(dataset)} images\")\n",
    "print(f\"Dataset features are: {dataset.features.keys()}\")"
   ]
  },
  {
   "cell_type": "markdown",
   "metadata": {},
   "source": [
    "Now, lets take a closer look at our dataset"
   ]
  },
  {
   "cell_type": "code",
   "execution_count": 10,
   "metadata": {},
   "outputs": [
    {
     "name": "stdout",
     "output_type": "stream",
     "text": [
      "Random sample is 398\n",
      "OCR text is {\"company\": \"99 SPEED MART S/B\", \"date\": \"04-06-16\", \"address\": \"LOT P.T. 33198, BATU 4 JALAN KAPAR, MUKIM KAPAR 42100 KLANG, SELANGOR 1174-PERMATA MAGNA\", \"total\": \"2.10\"}\n"
     ]
    },
    {
     "data": {
      "image/png": "[encoded data removed]",
      "text/plain": [
       "<PIL.Image.Image image mode=RGB size=250x400 at 0x7F3F9F6B1C10>"
      ]
     },
     "execution_count": 10,
     "metadata": {},
     "output_type": "execute_result"
    }
   ],
   "source": [
    "import random\n",
    "\n",
    "random_sample = random.randint(0, len(dataset))\n",
    "\n",
    "print(f\"Random sample is {random_sample}\")\n",
    "print(f\"OCR text is {dataset[random_sample]['text']}\")\n",
    "dataset[random_sample]['image'].resize((250,400))\n"
   ]
  },
  {
   "cell_type": "markdown",
   "metadata": {},
   "source": [
    "## Prepare dataset for donut\n",
    "\n",
    "As we learned in the introduction, Donut is a sequence-to-sequence model with a vision encoder and text decoder. When fine-tuning the model we want it to generate the `\"text\"` based on the image we pass it. Similar to NLP tasks, we have to tokenizer and preprocess the text. \n",
    "Before we can tokenize the text, we need to transform the JSON string into a Donut compatible document. \n",
    "\n",
    "**current JSON string**\n",
    "```json\n",
    "{\"company\": \"ADVANCO COMPANY\", \"date\": \"17/01/2018\", \"address\": \"NO 1&3, JALAN WANGSA DELIMA 12, WANGSA LINK, WANGSA MAJU, 53300 KUALA LUMPUR\", \"total\": \"7.00\"}\n",
    "```\n",
    "\n",
    "**donut document**\n",
    "```json\n",
    "<s></s><s_company>ADVANCO COMPANY</s_company><s_date>17/01/2018</s_date><s_address>NO 1&3, JALAN WANGSA DELIMA 12, WANGSA LINK, WANGSA MAJU, 53300 KUALA LUMPUR</s_address><s_total>7.00</s_total></s>\n",
    "```\n",
    "\n",
    "To easily create those documents the ClovaAI team has created a [json2token](https://github.com/clovaai/donut/blob/master/donut/model.py#L497) method, which we extract and then apply."
   ]
  },
  {
   "cell_type": "code",
   "execution_count": 11,
   "metadata": {},
   "outputs": [
    {
     "name": "stderr",
     "output_type": "stream",
     "text": [
      "100%|██████████| 626/626 [00:49<00:00, 12.71ex/s]\n"
     ]
    }
   ],
   "source": [
    "new_special_tokens = [] # new tokens which will be added to the tokenizer\n",
    "task_start_token = \"<s>\"  # start of task token\n",
    "eos_token = \"</s>\" # eos token of tokenizer\n",
    "\n",
    "def json2token(obj, update_special_tokens_for_json_key: bool = True, sort_json_key: bool = True):\n",
    "    \"\"\"\n",
    "    Convert an ordered JSON object into a token sequence\n",
    "    \"\"\"\n",
    "    if type(obj) == dict:\n",
    "        if len(obj) == 1 and \"text_sequence\" in obj:\n",
    "            return obj[\"text_sequence\"]\n",
    "        else:\n",
    "            output = \"\"\n",
    "            if sort_json_key:\n",
    "                keys = sorted(obj.keys(), reverse=True)\n",
    "            else:\n",
    "                keys = obj.keys()\n",
    "            for k in keys:\n",
    "                if update_special_tokens_for_json_key:\n",
    "                    new_special_tokens.append(fr\"<s_{k}>\") if fr\"<s_{k}>\" not in new_special_tokens else None\n",
    "                    new_special_tokens.append(fr\"</s_{k}>\") if fr\"</s_{k}>\" not in new_special_tokens else None\n",
    "                output += (\n",
    "                    fr\"<s_{k}>\"\n",
    "                    + json2token(obj[k], update_special_tokens_for_json_key, sort_json_key)\n",
    "                    + fr\"</s_{k}>\"\n",
    "                )\n",
    "            return output\n",
    "    elif type(obj) == list:\n",
    "        return r\"<sep/>\".join(\n",
    "            [json2token(item, update_special_tokens_for_json_key, sort_json_key) for item in obj]\n",
    "        )\n",
    "    else:\n",
    "        # excluded special tokens for now\n",
    "        obj = str(obj)\n",
    "        if f\"<{obj}/>\" in new_special_tokens:\n",
    "            obj = f\"<{obj}/>\"  # for categorical special tokens\n",
    "        return obj\n",
    "\n",
    "\n",
    "def preprocess_documents_for_donut(sample):\n",
    "    # create Donut-style input\n",
    "    text = json.loads(sample[\"text\"])\n",
    "    d_doc = task_start_token + json2token(text) + eos_token\n",
    "    # convert all images to RGB\n",
    "    image = sample[\"image\"].convert('RGB')\n",
    "    return {\"image\": image, \"text\": d_doc}\n",
    "\n",
    "proc_dataset = dataset.map(preprocess_documents_for_donut)\n",
    "\n",
    "print(f\"Sample: {proc_dataset[45]['text']}\")\n",
    "print(f\"New special tokens: {new_special_tokens + [task_start_token] + [eos_token]}\")\n"
   ]
  },
  {
   "cell_type": "markdown",
   "metadata": {},
   "source": [
    "The next step is to tokenize our text and encode the images into tensors. Therefore we need to load `DonutProcessor`, add our new special tokens and adjust the size of the images when process from `[1920, 2560]` to `[960, 1280]` to need less memory and have faster training."
   ]
  },
  {
   "cell_type": "code",
   "execution_count": null,
   "metadata": {},
   "outputs": [
    {
     "name": "stderr",
     "output_type": "stream",
     "text": [
      "/opt/conda/envs/pytorch/lib/python3.9/site-packages/tqdm/auto.py:22: TqdmWarning: IProgress not found. Please update jupyter and ipywidgets. See https://ipywidgets.readthedocs.io/en/stable/user_install.html\n",
      "  from .autonotebook import tqdm as notebook_tqdm\n"
     ]
    }
   ],
   "source": [
    "from transformers import DonutProcessor\n",
    "\n",
    "# Load processor\n",
    "processor = DonutProcessor.from_pretrained(\"naver-clova-ix/donut-base\")\n",
    "\n",
    "# add new special tokens to tokenizer\n",
    "processor.tokenizer.add_special_tokens({\"additional_special_tokens\": new_special_tokens + [task_start_token] + [eos_token]})\n",
    "\n",
    "# we update some settings which differ from pretraining; namely the size of the images + no rotation required\n",
    "# resizing the image to smaller sizes from [1920, 2560] to [960,1280]\n",
    "processor.feature_extractor.size = [960,1280] # should be (width, height)\n",
    "processor.feature_extractor.do_align_long_axis = False"
   ]
  },
  {
   "cell_type": "code",
   "execution_count": null,
   "metadata": {},
   "outputs": [],
   "source": [
    "processor.save_pretrained(\"processor\")"
   ]
  },
  {
   "cell_type": "markdown",
   "metadata": {},
   "source": [
    "Now, we can prepare our dataset, which we will use for the training later.\n"
   ]
  },
  {
   "cell_type": "code",
   "execution_count": null,
   "metadata": {},
   "outputs": [
    {
     "ename": "NameError",
     "evalue": "name 'proc_dataset' is not defined",
     "output_type": "error",
     "traceback": [
      "\u001b[0;31m---------------------------------------------------------------------------\u001b[0m",
      "\u001b[0;31mNameError\u001b[0m                                 Traceback (most recent call last)",
      "\u001b[1;32m/home/ubuntu/document-ai-transformers/training/donut_sroie.ipynb Cell 22\u001b[0m in \u001b[0;36m<cell line: 27>\u001b[0;34m()\u001b[0m\n\u001b[1;32m     <a href='vscode-notebook-cell://ssh-remote%2Bp3/home/ubuntu/document-ai-transformers/training/donut_sroie.ipynb#X30sdnNjb2RlLXJlbW90ZQ%3D%3D?line=23'>24</a>\u001b[0m     \u001b[39mreturn\u001b[39;00m {\u001b[39m\"\u001b[39m\u001b[39mpixel_values\u001b[39m\u001b[39m\"\u001b[39m: pixel_values, \u001b[39m\"\u001b[39m\u001b[39mlabels\u001b[39m\u001b[39m\"\u001b[39m: labels, \u001b[39m\"\u001b[39m\u001b[39mtarget_sequence\u001b[39m\u001b[39m\"\u001b[39m: sample[\u001b[39m\"\u001b[39m\u001b[39mtext\u001b[39m\u001b[39m\"\u001b[39m]}\n\u001b[1;32m     <a href='vscode-notebook-cell://ssh-remote%2Bp3/home/ubuntu/document-ai-transformers/training/donut_sroie.ipynb#X30sdnNjb2RlLXJlbW90ZQ%3D%3D?line=25'>26</a>\u001b[0m \u001b[39m# need at least 32-64GB of RAM to run this\u001b[39;00m\n\u001b[0;32m---> <a href='vscode-notebook-cell://ssh-remote%2Bp3/home/ubuntu/document-ai-transformers/training/donut_sroie.ipynb#X30sdnNjb2RlLXJlbW90ZQ%3D%3D?line=26'>27</a>\u001b[0m processed_dataset \u001b[39m=\u001b[39m proc_dataset\u001b[39m.\u001b[39mmap(transform_and_tokenize,remove_columns\u001b[39m=\u001b[39m[\u001b[39m\"\u001b[39m\u001b[39mimage\u001b[39m\u001b[39m\"\u001b[39m,\u001b[39m\"\u001b[39m\u001b[39mtext\u001b[39m\u001b[39m\"\u001b[39m])\n",
      "\u001b[0;31mNameError\u001b[0m: name 'proc_dataset' is not defined"
     ]
    }
   ],
   "source": [
    "def transform_and_tokenize(sample, processor=processor, split=\"train\", max_length=512, ignore_id=-1000):\n",
    "    # create tensor from image\n",
    "    try:\n",
    "        pixel_values = processor(\n",
    "            sample[\"image\"], random_padding=split == \"train\", return_tensors=\"pt\"\n",
    "        ).pixel_values.squeeze()\n",
    "    except Exception as e:\n",
    "        print(sample)\n",
    "        print(f\"Error: {e}\")\n",
    "        return {}\n",
    "        \n",
    "    # tokenize document\n",
    "    input_ids = processor.tokenizer(\n",
    "        sample[\"text\"],\n",
    "        add_special_tokens=False,\n",
    "        max_length=max_length,\n",
    "        padding=\"max_length\",\n",
    "        truncation=True,\n",
    "        return_tensors=\"pt\",\n",
    "    )[\"input_ids\"].squeeze(0)\n",
    "\n",
    "    labels = input_ids.clone()\n",
    "    labels[labels == processor.tokenizer.pad_token_id] = ignore_id  # model doesn't need to predict pad token\n",
    "    return {\"pixel_values\": pixel_values, \"labels\": labels, \"target_sequence\": sample[\"text\"]}\n",
    "\n",
    "# need at least 32-64GB of RAM to run this\n",
    "processed_dataset = proc_dataset.map(transform_and_tokenize,remove_columns=[\"image\",\"text\"])"
   ]
  },
  {
   "cell_type": "code",
   "execution_count": null,
   "metadata": {},
   "outputs": [],
   "source": [
    "\n",
    "processed_dataset.save_to_disk(\"processed_dataset\")"
   ]
  },
  {
   "cell_type": "code",
   "execution_count": null,
   "metadata": {},
   "outputs": [],
   "source": [
    "from datasets import load_from_disk\n",
    "from transformers import DonutProcessor\n",
    "\n",
    "\n",
    "processed_dataset = load_from_disk(\"processed_dataset\")\n",
    "processor = DonutProcessor.from_pretrained(\"processor\")\n"
   ]
  },
  {
   "cell_type": "markdown",
   "metadata": {},
   "source": [
    "## 4. Run training and evaluation\n",
    "\n",
    "After we have processed our dataset, we can start training our model. Therefore we first need to load our model with the `VisionEncoderDecoderModel` class."
   ]
  },
  {
   "cell_type": "code",
   "execution_count": null,
   "metadata": {},
   "outputs": [],
   "source": [
    "import torch\n",
    "from transformers import VisionEncoderDecoderModel, VisionEncoderDecoderConfig\n",
    "\n",
    "\n",
    "model = VisionEncoderDecoderModel.from_pretrained(\"naver-clova-ix/donut-base\")\n",
    "\n",
    "# resize embedding layer to match vocabulary size\n",
    "model.decoder.resize_token_embeddings(len(processor.tokenizer))\n",
    "\n",
    "# adjust our image size and output sequence lengths\n",
    "model.config.encoder.image_size = processor.feature_extractor.size[::-1] # (height, width)\n",
    "model.config.decoder.max_length = len(max(processed_dataset[\"labels\"], key=len))\n",
    "\n",
    "# Add task token for decoder to start\n",
    "model.config.pad_token_id = processor.tokenizer.pad_token_id\n",
    "model.config.decoder_start_token_id = processor.tokenizer.convert_tokens_to_ids(['<s>'])[0]\n",
    "\n",
    "device = \"cuda\" if torch.cuda.is_available() else \"cpu\"\n",
    "model.to(device)"
   ]
  },
  {
   "cell_type": "code",
   "execution_count": null,
   "metadata": {},
   "outputs": [],
   "source": [
    "test_ds = processed_dataset.select(range(10))"
   ]
  },
  {
   "cell_type": "code",
   "execution_count": null,
   "metadata": {},
   "outputs": [
    {
     "name": "stdout",
     "output_type": "stream",
     "text": [
      "Pixel values: torch.Size([1, 3, 540, 240])\n",
      "Labels: torch.Size([1, 512])\n"
     ]
    }
   ],
   "source": [
    "pixel_values = torch.tensor(test_ds[0][\"pixel_values\"]).unsqueeze(0).to(device)\n",
    "labels = torch.tensor(test_ds[0][\"labels\"]).unsqueeze(0).to(device)\n",
    "\n",
    "print(f\"Pixel values: {pixel_values.shape}\")\n",
    "print(f\"Labels: {labels.shape}\")"
   ]
  },
  {
   "cell_type": "code",
   "execution_count": null,
   "metadata": {},
   "outputs": [
    {
     "name": "stderr",
     "output_type": "stream",
     "text": [
      "No config specified, defaulting to: cats-image/image\n",
      "Reusing dataset cats-image (/home/ubuntu/.cache/huggingface/datasets/huggingface___cats-image/image/1.9.0/68fbc793fb10cd165e490867f5d61fa366086ea40c73e549a020103dcb4f597e)\n",
      "100%|██████████| 1/1 [00:00<00:00, 841.89it/s]\n"
     ]
    }
   ],
   "source": [
    "dataset = load_dataset(\"huggingface/cats-image\")\n",
    "image = dataset[\"test\"][\"image\"][0]\n",
    "pixel_values = processor.feature_extractor(image, return_tensors=\"pt\").pixel_values.to(device)\n",
    "\n",
    "labels = processor.tokenizer(\n",
    "    \"an image of two cats chilling on a couch\",\n",
    "    return_tensors=\"pt\",\n",
    ").input_ids.to(device)"
   ]
  },
  {
   "cell_type": "code",
   "execution_count": null,
   "metadata": {},
   "outputs": [],
   "source": [
    "# the forward function automatically creates the correct decoder_input_ids\n",
    "loss = model(pixel_values=pixel_values, labels=labels).loss"
   ]
  },
  {
   "cell_type": "code",
   "execution_count": 64,
   "metadata": {},
   "outputs": [
    {
     "name": "stderr",
     "output_type": "stream",
     "text": [
      "No config specified, defaulting to: cats-image/image\n",
      "Reusing dataset cats-image (/home/ubuntu/.cache/huggingface/datasets/huggingface___cats-image/image/1.9.0/68fbc793fb10cd165e490867f5d61fa366086ea40c73e549a020103dcb4f597e)\n",
      "100%|██████████| 1/1 [00:00<00:00, 607.87it/s]\n"
     ]
    }
   ],
   "source": [
    "from transformers import DonutProcessor,VisionEncoderDecoderModel\n",
    "\n",
    "\n",
    "model = VisionEncoderDecoderModel.from_pretrained(\"naver-clova-ix/donut-base\")\n",
    "# Load processor\n",
    "processor = DonutProcessor.from_pretrained(\"naver-clova-ix/donut-base\")\n",
    "model.config.decoder_start_token_id = processor.tokenizer.convert_tokens_to_ids(['<s>'])[0]\n",
    "\n",
    "dataset = load_dataset(\"huggingface/cats-image\")\n",
    "image = dataset[\"test\"][\"image\"][0]\n",
    "\n",
    "\n",
    "pixel_values = processor.feature_extractor(image, return_tensors=\"pt\").pixel_values\n",
    "\n",
    "\n",
    "labels = processor.tokenizer(\n",
    "    \"an image of two cats chilling on a couch\",\n",
    "    return_tensors=\"pt\",\n",
    ").input_ids\n",
    "\n",
    "# the forward function automatically creates the correct decoder_input_ids\n",
    "loss = model(pixel_values=pixel_values, labels=labels).loss"
   ]
  },
  {
   "cell_type": "code",
   "execution_count": 10,
   "metadata": {},
   "outputs": [
    {
     "data": {
      "text/plain": [
       "torch.Size([1, 3, 2560, 1920])"
      ]
     },
     "execution_count": 10,
     "metadata": {},
     "output_type": "execute_result"
    }
   ],
   "source": [
    "pixel_values.shape"
   ]
  },
  {
   "cell_type": "code",
   "execution_count": null,
   "metadata": {},
   "outputs": [],
   "source": []
  }
 ],
 "metadata": {
  "kernelspec": {
   "display_name": "Python 3.9.13 ('pytorch')",
   "language": "python",
   "name": "python3"
  },
  "language_info": {
   "codemirror_mode": {
    "name": "ipython",
    "version": 3
   },
   "file_extension": ".py",
   "mimetype": "text/x-python",
   "name": "python",
   "nbconvert_exporter": "python",
   "pygments_lexer": "ipython3",
   "version": "3.9.13"
  },
  "orig_nbformat": 4,
  "vscode": {
   "interpreter": {
    "hash": "2d58e898dde0263bc564c6968b04150abacfd33eed9b19aaa8e45c040360e146"
   }
  }
 },
 "nbformat": 4,
 "nbformat_minor": 2
}
